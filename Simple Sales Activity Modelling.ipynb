{
 "cells": [
  {
   "cell_type": "markdown",
   "metadata": {},
   "source": [
    "# <center> Customer Sales Activity Prediction using historic Data"
   ]
  },
  {
   "cell_type": "code",
   "execution_count": 65,
   "metadata": {},
   "outputs": [],
   "source": [
    "# Part One Set Environment and Get libraries\n",
    "import numpy as np\n",
    "import matplotlib.pyplot as plt\n",
    "import pandas as pd\n",
    "import seaborn as sns\n",
    "\n",
    "from sklearn.metrics import confusion_matrix\n",
    "\n",
    "from sklearn.datasets import make_classification\n",
    "from sklearn.linear_model import LogisticRegression\n",
    "from sklearn.model_selection import train_test_split\n",
    "from sklearn.metrics import roc_curve\n",
    "from sklearn.metrics import roc_auc_score\n",
    "\n",
    "\n",
    "from sklearn.metrics import accuracy_score\n",
    "from sklearn.metrics import f1_score\n",
    "from sklearn.metrics import precision_score\n",
    "from sklearn.metrics import recall_score\n"
   ]
  },
  {
   "cell_type": "markdown",
   "metadata": {},
   "source": [
    "## Data Importing and Basic EDA"
   ]
  },
  {
   "cell_type": "code",
   "execution_count": 3,
   "metadata": {},
   "outputs": [],
   "source": [
    "# Part two Data Importing\n",
    "df = pd.read_csv('Sales_data.csv')"
   ]
  },
  {
   "cell_type": "code",
   "execution_count": 4,
   "metadata": {},
   "outputs": [
    {
     "name": "stdout",
     "output_type": "stream",
     "text": [
      "<class 'pandas.core.frame.DataFrame'>\n",
      "RangeIndex: 400 entries, 0 to 399\n",
      "Data columns (total 5 columns):\n",
      " #   Column           Non-Null Count  Dtype \n",
      "---  ------           --------------  ----- \n",
      " 0   User ID          400 non-null    int64 \n",
      " 1   Gender           400 non-null    object\n",
      " 2   Age              400 non-null    int64 \n",
      " 3   EstimatedSalary  400 non-null    int64 \n",
      " 4   Purchased        400 non-null    int64 \n",
      "dtypes: int64(4), object(1)\n",
      "memory usage: 15.8+ KB\n",
      "None\n",
      "****************************************************************************************************\n",
      "             User ID  Gender         Age  EstimatedSalary   Purchased\n",
      "count   4.000000e+02     400  400.000000       400.000000  400.000000\n",
      "unique           NaN       2         NaN              NaN         NaN\n",
      "top              NaN  Female         NaN              NaN         NaN\n",
      "freq             NaN     204         NaN              NaN         NaN\n",
      "mean    1.569154e+07     NaN   37.655000     69742.500000    0.357500\n",
      "std     7.165832e+04     NaN   10.482877     34096.960282    0.479864\n",
      "min     1.556669e+07     NaN   18.000000     15000.000000    0.000000\n",
      "25%     1.562676e+07     NaN   29.750000     43000.000000    0.000000\n",
      "50%     1.569434e+07     NaN   37.000000     70000.000000    0.000000\n",
      "75%     1.575036e+07     NaN   46.000000     88000.000000    1.000000\n",
      "max     1.581524e+07     NaN   60.000000    150000.000000    1.000000\n",
      "****************************************************************************************************\n",
      "     User ID  Gender  Age  EstimatedSalary  Purchased\n",
      "0   15624510    Male   19            19000          0\n",
      "1   15810944    Male   35            20000          0\n",
      "2   15668575  Female   26            43000          0\n",
      "3   15603246  Female   27            57000          0\n",
      "4   15804002    Male   19            76000          0\n",
      "5   15728773    Male   27            58000          0\n",
      "6   15598044  Female   27            84000          0\n",
      "7   15694829  Female   32           150000          1\n",
      "8   15600575    Male   25            33000          0\n",
      "9   15727311  Female   35            65000          0\n",
      "10  15570769  Female   26            80000          0\n",
      "11  15606274  Female   26            52000          0\n",
      "12  15746139    Male   20            86000          0\n",
      "13  15704987    Male   32            18000          0\n",
      "14  15628972    Male   18            82000          0\n",
      "15  15697686    Male   29            80000          0\n",
      "16  15733883    Male   47            25000          1\n",
      "17  15617482    Male   45            26000          1\n",
      "18  15704583    Male   46            28000          1\n",
      "19  15621083  Female   48            29000          1\n",
      "****************************************************************************************************\n"
     ]
    }
   ],
   "source": [
    "#Basics EDA Data\n",
    "print(df.info())\n",
    "print(\"*\"*100)\n",
    "print(df.describe(include = 'all'))\n",
    "print(\"*\"*100)\n",
    "print(df.head(20))\n",
    "print(\"*\"*100)"
   ]
  },
  {
   "cell_type": "code",
   "execution_count": 5,
   "metadata": {},
   "outputs": [
    {
     "data": {
      "text/plain": [
       "User ID            0\n",
       "Gender             0\n",
       "Age                0\n",
       "EstimatedSalary    0\n",
       "Purchased          0\n",
       "dtype: int64"
      ]
     },
     "metadata": {},
     "output_type": "display_data"
    }
   ],
   "source": [
    "#Data Na value count\n",
    "display(df.isnull().sum()) \n",
    "#No missing values"
   ]
  },
  {
   "cell_type": "markdown",
   "metadata": {},
   "source": [
    "## Simple Data Visualizations"
   ]
  },
  {
   "cell_type": "code",
   "execution_count": 6,
   "metadata": {},
   "outputs": [
    {
     "data": {
      "image/png": "[encoded data removed]",
      "text/plain": [
       "<Figure size 432x288 with 1 Axes>"
      ]
     },
     "metadata": {
      "needs_background": "light"
     },
     "output_type": "display_data"
    },
    {
     "data": {
      "text/plain": [
       "<matplotlib.axes._subplots.AxesSubplot at 0xfed5e07a20>"
      ]
     },
     "execution_count": 6,
     "metadata": {},
     "output_type": "execute_result"
    },
    {
     "data": {
      "image/png": "[encoded data removed]",
      "text/plain": [
       "<Figure size 432x288 with 1 Axes>"
      ]
     },
     "metadata": {},
     "output_type": "display_data"
    }
   ],
   "source": [
    "plt.hist(df['Age'])\n",
    "plt.title('Age Distributions')\n",
    "plt.show()\n",
    "df.Gender.value_counts().plot(kind='pie')\n"
   ]
  },
  {
   "cell_type": "code",
   "execution_count": 7,
   "metadata": {},
   "outputs": [
    {
     "data": {
      "text/plain": [
       "<seaborn.axisgrid.FacetGrid at 0xfed559f940>"
      ]
     },
     "execution_count": 7,
     "metadata": {},
     "output_type": "execute_result"
    },
    {
     "data": {
      "image/png": "[encoded data removed]",
      "text/plain": [
       "<Figure size 432.875x360 with 1 Axes>"
      ]
     },
     "metadata": {
      "needs_background": "light"
     },
     "output_type": "display_data"
    }
   ],
   "source": [
    "sns.relplot(x=\"Age\", y=\"EstimatedSalary\",hue=\"Gender\", data=df)"
   ]
  },
  {
   "cell_type": "code",
   "execution_count": 8,
   "metadata": {},
   "outputs": [
    {
     "data": {
      "image/png": "[encoded data removed]",
      "text/plain": [
       "<Figure size 432x288 with 1 Axes>"
      ]
     },
     "metadata": {
      "needs_background": "light"
     },
     "output_type": "display_data"
    }
   ],
   "source": [
    "ax = sns.boxplot(x=\"Gender\", y=\"EstimatedSalary\", data=df) #hmm No biases here"
   ]
  },
  {
   "cell_type": "code",
   "execution_count": 9,
   "metadata": {},
   "outputs": [
    {
     "data": {
      "text/plain": [
       "<matplotlib.axes._subplots.AxesSubplot at 0xfed5ef3b38>"
      ]
     },
     "execution_count": 9,
     "metadata": {},
     "output_type": "execute_result"
    },
    {
     "data": {
      "image/png": "[encoded data removed]",
      "text/plain": [
       "<Figure size 432x288 with 1 Axes>"
      ]
     },
     "metadata": {
      "needs_background": "light"
     },
     "output_type": "display_data"
    }
   ],
   "source": [
    "sns.boxplot(x=\"Age\", y=\"EstimatedSalary\", data=df) #Bad design, Form Age Data brackets and try again"
   ]
  },
  {
   "cell_type": "code",
   "execution_count": 10,
   "metadata": {},
   "outputs": [
    {
     "name": "stdout",
     "output_type": "stream",
     "text": [
      "18 60\n"
     ]
    },
    {
     "data": {
      "text/plain": [
       "Text(0.5, 1.0, 'Age vs Income Distribution')"
      ]
     },
     "execution_count": 10,
     "metadata": {},
     "output_type": "execute_result"
    },
    {
     "data": {
      "image/png": "[encoded data removed]",
      "text/plain": [
       "<Figure size 432x288 with 1 Axes>"
      ]
     },
     "metadata": {
      "needs_background": "light"
     },
     "output_type": "display_data"
    }
   ],
   "source": [
    "print(df['Age'].min(), df['Age'].max())\n",
    "bins = [18,25,30,35,40,45,50,55,60,65]\n",
    "labels = ['18-24','25-30', '30-34','35-39','40-44','44-50', '50-54','54-59','60-64' '65+']\n",
    "df['AgeBins'] = pd.cut(df.Age, bins, labels = labels,include_lowest = True)\n",
    "sns.boxplot(x=\"AgeBins\", y=\"EstimatedSalary\", data=df).set_title(\"Age vs Income Distribution\")"
   ]
  },
  {
   "cell_type": "markdown",
   "metadata": {},
   "source": [
    "## Data Preperation"
   ]
  },
  {
   "cell_type": "code",
   "execution_count": 11,
   "metadata": {},
   "outputs": [],
   "source": [
    "#Drop UserID AgeBing\n",
    "df.drop(columns = ['User ID', 'AgeBins'], inplace = True)"
   ]
  },
  {
   "cell_type": "code",
   "execution_count": 12,
   "metadata": {},
   "outputs": [],
   "source": [
    "# One hot encoding for Male-Female\n",
    "df['Gender'].replace({'Male': 1, 'Female': 0}, inplace = True)"
   ]
  },
  {
   "cell_type": "markdown",
   "metadata": {},
   "source": [
    "## Data Splitting "
   ]
  },
  {
   "cell_type": "code",
   "execution_count": 13,
   "metadata": {},
   "outputs": [],
   "source": [
    "X = df.iloc[:, [0,1,2]].values\n",
    "y = df.iloc[:, 3].values"
   ]
  },
  {
   "cell_type": "code",
   "execution_count": 14,
   "metadata": {},
   "outputs": [],
   "source": [
    "from sklearn.model_selection import train_test_split\n",
    "X_train, X_test, y_train, y_test = train_test_split(X, y, test_size = 0.25, random_state = 0)"
   ]
  },
  {
   "cell_type": "markdown",
   "metadata": {},
   "source": [
    "# Data Modelling"
   ]
  },
  {
   "cell_type": "code",
   "execution_count": 15,
   "metadata": {},
   "outputs": [
    {
     "name": "stdout",
     "output_type": "stream",
     "text": [
      "[[    1    19 19000]\n",
      " [    1    35 20000]\n",
      " [    0    26 43000]\n",
      " ...\n",
      " [    0    50 20000]\n",
      " [    1    36 33000]\n",
      " [    0    49 36000]] [0 0 0 0 0 0 0 1 0 0 0 0 0 0 0 0 1 1 1 1 1 1 1 1 1 1 1 1 0 0 0 1 0 0 0 0 0\n",
      " 0 0 0 0 0 0 0 0 0 0 0 1 0 0 0 0 0 0 0 0 0 0 0 0 0 0 1 0 0 0 0 0 0 0 0 0 0\n",
      " 0 1 0 0 0 0 0 0 0 0 0 1 0 0 0 0 0 0 0 0 0 0 0 1 0 0 0 0 0 1 0 0 0 0 0 0 0\n",
      " 0 0 0 0 0 0 0 0 0 0 0 0 0 0 0 0 0 0 0 0 0 0 0 0 0 0 1 0 0 0 0 0 0 0 0 1 0\n",
      " 0 0 0 0 0 0 0 0 0 0 0 1 1 0 0 0 0 0 0 0 1 0 0 0 0 0 0 0 0 0 0 0 0 0 1 0 0\n",
      " 0 0 0 0 0 0 0 0 0 0 0 0 0 0 0 0 0 1 0 1 0 1 0 1 0 1 1 0 0 0 1 0 0 0 1 0 1\n",
      " 1 1 0 0 1 1 0 1 1 0 1 1 0 1 0 0 0 1 1 0 1 1 0 1 0 1 0 1 0 0 1 1 0 1 0 0 1\n",
      " 1 0 1 1 0 1 1 0 0 1 0 0 1 1 1 1 1 0 1 1 1 1 0 1 1 0 1 0 1 0 1 1 1 1 0 0 0\n",
      " 1 1 0 1 1 1 1 1 0 0 0 1 1 0 0 1 0 1 0 1 1 0 1 0 1 1 0 1 1 0 0 0 1 1 0 1 0\n",
      " 0 1 0 1 0 0 1 1 0 0 1 1 0 1 1 0 0 1 0 1 0 1 1 1 0 1 0 1 1 1 0 1 1 1 1 0 1\n",
      " 1 1 0 1 0 1 0 0 1 1 0 1 1 1 1 1 1 0 1 1 1 1 1 1 0 1 1 1 0 1]\n"
     ]
    }
   ],
   "source": [
    "print(X,y)"
   ]
  },
  {
   "cell_type": "code",
   "execution_count": 16,
   "metadata": {},
   "outputs": [],
   "source": [
    "from sklearn.linear_model import LogisticRegression\n",
    "classifier = LogisticRegression(random_state = 0)\n",
    "classifier.fit(X_train, y_train)\n",
    "y_pred = classifier.predict(X_test)\n",
    "from sklearn.metrics import confusion_matrix\n",
    "cm = confusion_matrix(y_test, y_pred)"
   ]
  },
  {
   "cell_type": "code",
   "execution_count": 17,
   "metadata": {},
   "outputs": [
    {
     "data": {
      "text/plain": [
       "array([[68,  0],\n",
       "       [32,  0]], dtype=int64)"
      ]
     },
     "execution_count": 17,
     "metadata": {},
     "output_type": "execute_result"
    }
   ],
   "source": [
    "cm #This is wrong, our predictor is saying everyone purchased, some problem here."
   ]
  },
  {
   "cell_type": "markdown",
   "metadata": {},
   "source": [
    "### Adjusting Scaling Issues"
   ]
  },
  {
   "cell_type": "code",
   "execution_count": 67,
   "metadata": {},
   "outputs": [
    {
     "name": "stdout",
     "output_type": "stream",
     "text": [
      "[[-0.98019606  0.58164944 -0.88670699]\n",
      " [ 1.02020406 -0.60673761  1.46173768]\n",
      " [-0.98019606 -0.01254409 -0.5677824 ]\n",
      " [-0.98019606 -0.60673761  1.89663484]\n",
      " [-0.98019606  1.37390747 -1.40858358]\n",
      " [-0.98019606  1.47293972  0.99784738]\n",
      " [ 1.02020406  0.08648817 -0.79972756]\n",
      " [ 1.02020406 -0.01254409 -0.24885782]\n",
      " [-0.98019606 -0.21060859 -0.5677824 ]\n",
      " [-0.98019606 -0.21060859 -0.19087153]\n",
      " [-0.98019606 -0.30964085 -1.29261101]\n",
      " [ 1.02020406 -0.30964085 -0.5677824 ]\n",
      " [ 1.02020406  0.38358493  0.09905991]\n",
      " [-0.98019606  0.8787462  -0.59677555]\n",
      " [-0.98019606  2.06713324 -1.17663843]\n",
      " [ 1.02020406  1.07681071 -0.13288524]\n",
      " [-0.98019606  0.68068169  1.78066227]\n",
      " [-0.98019606 -0.70576986  0.56295021]\n",
      " [-0.98019606  0.77971394  0.35999821]\n",
      " [-0.98019606  0.8787462  -0.53878926]]\n"
     ]
    }
   ],
   "source": [
    "#Scale the data\n",
    "\n",
    "X = df.iloc[:, [0,1,2]].values\n",
    "y = df.iloc[:, 3].values\n",
    "\n",
    "from sklearn.model_selection import train_test_split\n",
    "X_train, X_test, y_train, y_test = train_test_split(X, y, test_size = 0.25, random_state = 0)\n",
    "\n",
    "\n",
    "from sklearn.preprocessing import StandardScaler\n",
    "sc = StandardScaler()\n",
    "X_train_scaled = sc.fit_transform(X_train)\n",
    "X_test_scaled = sc.transform(X_test)\n",
    "print(X_train_scaled[:20])"
   ]
  },
  {
   "cell_type": "code",
   "execution_count": 19,
   "metadata": {},
   "outputs": [],
   "source": [
    "from sklearn.linear_model import LogisticRegression\n",
    "classifier = LogisticRegression(random_state = 0)\n",
    "classifier.fit(X_train_scaled, y_train)\n",
    "y_pred_lr = classifier.predict(X_test_scaled)\n",
    "from sklearn.metrics import confusion_matrix\n",
    "cm_scaled = confusion_matrix(y_test, y_pred_lr)"
   ]
  },
  {
   "cell_type": "code",
   "execution_count": 20,
   "metadata": {},
   "outputs": [
    {
     "name": "stdout",
     "output_type": "stream",
     "text": [
      "Logistics Regression Results\n",
      "[[65  3]\n",
      " [ 7 25]]\n",
      "****************************************************************************************************\n"
     ]
    }
   ],
   "source": [
    "print('Logistics Regression Results')\n",
    "print(cm_scaled) # looks better\n",
    "print(\"*\"*100)"
   ]
  },
  {
   "cell_type": "markdown",
   "metadata": {},
   "source": [
    "## Some more ML models "
   ]
  },
  {
   "cell_type": "code",
   "execution_count": 23,
   "metadata": {},
   "outputs": [],
   "source": [
    "def printConfusionMatrix(model_name, y_true, y_pred):\n",
    "    print(model_name + \" \" + 'results')\n",
    "    cm = confusion_matrix(y_true, y_pred)\n",
    "    print(cm)\n",
    "    print(\"*\"*100)\n",
    "    "
   ]
  },
  {
   "cell_type": "code",
   "execution_count": 24,
   "metadata": {},
   "outputs": [
    {
     "name": "stdout",
     "output_type": "stream",
     "text": [
      "KNN results\n",
      "[[64  4]\n",
      " [ 3 29]]\n",
      "****************************************************************************************************\n",
      "Support Vector Machine Results\n",
      "[[64  4]\n",
      " [ 3 29]]\n",
      "****************************************************************************************************\n",
      "Decision Tree Normal results\n",
      "[[63  5]\n",
      " [ 3 29]]\n",
      "****************************************************************************************************\n",
      "Decision Tree Scaled results\n",
      "[[63  5]\n",
      " [ 3 29]]\n",
      "****************************************************************************************************\n",
      "Random Forest Scaled results\n",
      "[[64  4]\n",
      " [ 4 28]]\n",
      "****************************************************************************************************\n"
     ]
    }
   ],
   "source": [
    "from sklearn.neighbors import KNeighborsClassifier\n",
    "classifierknn = KNeighborsClassifier(n_neighbors = 5, metric = 'minkowski')\n",
    "classifierknn.fit(X_train_scaled, y_train)\n",
    "y_pred_knn = classifierknn.predict(X_test_scaled)\n",
    "cm_knn = confusion_matrix(y_test, y_pred_knn)\n",
    "print('KNN results')\n",
    "print(cm_knn)\n",
    "print(\"*\"*100)\n",
    "\n",
    "from sklearn.svm import SVC\n",
    "classifiersvc = SVC(kernel = 'rbf', random_state = 0)\n",
    "classifiersvc.fit(X_train_scaled, y_train)\n",
    "# Predicting the Test set results\n",
    "y_pred_svm = classifiersvc.predict(X_test_scaled)\n",
    "cm_svm = confusion_matrix(y_test, y_pred_svm)\n",
    "print('Support Vector Machine Results')\n",
    "print(cm_svm)\n",
    "print(\"*\"*100)\n",
    "\n",
    "\n",
    "#Decision tree without scaling, lets see wt happens\n",
    "from sklearn.tree import DecisionTreeClassifier\n",
    "classifierdt = DecisionTreeClassifier(criterion = 'entropy', random_state = 0)\n",
    "classifierdt.fit(X_train, y_train)\n",
    "y_pred_dt = classifierdt.predict(X_test)\n",
    "#Lets write a simple function to avoid repetitive print statement\n",
    "printConfusionMatrix(\"Decision Tree Normal\",y_test,y_pred_dt)\n",
    "\n",
    "#Decision tree with scaling, lets see wt happens\n",
    "from sklearn.tree import DecisionTreeClassifier\n",
    "classifierdtsc = DecisionTreeClassifier(criterion = 'entropy', random_state = 0)\n",
    "classifierdtsc.fit(X_train_scaled, y_train)\n",
    "y_pred_dtsc = classifierdtsc.predict(X_test_scaled)\n",
    "printConfusionMatrix(\"Decision Tree Scaled\",y_test,y_pred_dtsc)\n",
    "\n",
    "\n",
    "#Random Forest Modelling\n",
    "from sklearn.ensemble import RandomForestClassifier\n",
    "classifierrf = RandomForestClassifier(n_estimators = 10, criterion = 'entropy', random_state = 0)\n",
    "classifierrf.fit(X_train_scaled, y_train)\n",
    "y_pred_rf = classifierrf.predict(X_test_scaled)\n",
    "printConfusionMatrix(\"Random Forest Scaled\",y_test,y_pred_rf)"
   ]
  },
  {
   "cell_type": "markdown",
   "metadata": {},
   "source": [
    "# Result Interpretation"
   ]
  },
  {
   "cell_type": "code",
   "execution_count": 39,
   "metadata": {},
   "outputs": [],
   "source": [
    "result_df = pd.DataFrame()\n",
    "result_df['Actual'] = y_test\n",
    "result_df['LR_predictions'] = y_pred_lr\n",
    "result_df['KNN_preditions'] = y_pred_knn\n",
    "result_df['SVM_predictions'] = y_pred_svm\n",
    "result_df['DT_predictions'] = y_pred_dt\n",
    "result_df['RF_predictions'] = y_pred_rf"
   ]
  },
  {
   "cell_type": "code",
   "execution_count": 38,
   "metadata": {},
   "outputs": [
    {
     "data": {
      "text/html": [
       "<div>\n",
       "<style scoped>\n",
       "    .dataframe tbody tr th:only-of-type {\n",
       "        vertical-align: middle;\n",
       "    }\n",
       "\n",
       "    .dataframe tbody tr th {\n",
       "        vertical-align: top;\n",
       "    }\n",
       "\n",
       "    .dataframe thead th {\n",
       "        text-align: right;\n",
       "    }\n",
       "</style>\n",
       "<table border=\"1\" class=\"dataframe\">\n",
       "  <thead>\n",
       "    <tr style=\"text-align: right;\">\n",
       "      <th></th>\n",
       "      <th>Actual</th>\n",
       "      <th>LR_predictions</th>\n",
       "      <th>KNN_preditions</th>\n",
       "      <th>SVM_predictions</th>\n",
       "      <th>DT_predictions</th>\n",
       "      <th>RF_predictions</th>\n",
       "    </tr>\n",
       "  </thead>\n",
       "  <tbody>\n",
       "    <tr>\n",
       "      <th>0</th>\n",
       "      <td>0</td>\n",
       "      <td>0</td>\n",
       "      <td>0</td>\n",
       "      <td>0</td>\n",
       "      <td>0</td>\n",
       "      <td>0</td>\n",
       "    </tr>\n",
       "    <tr>\n",
       "      <th>1</th>\n",
       "      <td>0</td>\n",
       "      <td>0</td>\n",
       "      <td>0</td>\n",
       "      <td>0</td>\n",
       "      <td>0</td>\n",
       "      <td>0</td>\n",
       "    </tr>\n",
       "    <tr>\n",
       "      <th>2</th>\n",
       "      <td>0</td>\n",
       "      <td>0</td>\n",
       "      <td>0</td>\n",
       "      <td>0</td>\n",
       "      <td>0</td>\n",
       "      <td>0</td>\n",
       "    </tr>\n",
       "    <tr>\n",
       "      <th>3</th>\n",
       "      <td>0</td>\n",
       "      <td>0</td>\n",
       "      <td>0</td>\n",
       "      <td>0</td>\n",
       "      <td>0</td>\n",
       "      <td>0</td>\n",
       "    </tr>\n",
       "    <tr>\n",
       "      <th>4</th>\n",
       "      <td>0</td>\n",
       "      <td>0</td>\n",
       "      <td>0</td>\n",
       "      <td>0</td>\n",
       "      <td>0</td>\n",
       "      <td>0</td>\n",
       "    </tr>\n",
       "    <tr>\n",
       "      <th>...</th>\n",
       "      <td>...</td>\n",
       "      <td>...</td>\n",
       "      <td>...</td>\n",
       "      <td>...</td>\n",
       "      <td>...</td>\n",
       "      <td>...</td>\n",
       "    </tr>\n",
       "    <tr>\n",
       "      <th>95</th>\n",
       "      <td>1</td>\n",
       "      <td>0</td>\n",
       "      <td>0</td>\n",
       "      <td>0</td>\n",
       "      <td>1</td>\n",
       "      <td>0</td>\n",
       "    </tr>\n",
       "    <tr>\n",
       "      <th>96</th>\n",
       "      <td>0</td>\n",
       "      <td>0</td>\n",
       "      <td>0</td>\n",
       "      <td>0</td>\n",
       "      <td>0</td>\n",
       "      <td>0</td>\n",
       "    </tr>\n",
       "    <tr>\n",
       "      <th>97</th>\n",
       "      <td>1</td>\n",
       "      <td>0</td>\n",
       "      <td>1</td>\n",
       "      <td>1</td>\n",
       "      <td>1</td>\n",
       "      <td>1</td>\n",
       "    </tr>\n",
       "    <tr>\n",
       "      <th>98</th>\n",
       "      <td>1</td>\n",
       "      <td>1</td>\n",
       "      <td>1</td>\n",
       "      <td>1</td>\n",
       "      <td>1</td>\n",
       "      <td>1</td>\n",
       "    </tr>\n",
       "    <tr>\n",
       "      <th>99</th>\n",
       "      <td>1</td>\n",
       "      <td>1</td>\n",
       "      <td>1</td>\n",
       "      <td>1</td>\n",
       "      <td>1</td>\n",
       "      <td>1</td>\n",
       "    </tr>\n",
       "  </tbody>\n",
       "</table>\n",
       "<p>100 rows × 6 columns</p>\n",
       "</div>"
      ],
      "text/plain": [
       "    Actual  LR_predictions  KNN_preditions  SVM_predictions  DT_predictions  \\\n",
       "0        0               0               0                0               0   \n",
       "1        0               0               0                0               0   \n",
       "2        0               0               0                0               0   \n",
       "3        0               0               0                0               0   \n",
       "4        0               0               0                0               0   \n",
       "..     ...             ...             ...              ...             ...   \n",
       "95       1               0               0                0               1   \n",
       "96       0               0               0                0               0   \n",
       "97       1               0               1                1               1   \n",
       "98       1               1               1                1               1   \n",
       "99       1               1               1                1               1   \n",
       "\n",
       "    RF_predictions  \n",
       "0                0  \n",
       "1                0  \n",
       "2                0  \n",
       "3                0  \n",
       "4                0  \n",
       "..             ...  \n",
       "95               0  \n",
       "96               0  \n",
       "97               1  \n",
       "98               1  \n",
       "99               1  \n",
       "\n",
       "[100 rows x 6 columns]"
      ]
     },
     "execution_count": 38,
     "metadata": {},
     "output_type": "execute_result"
    }
   ],
   "source": [
    "result_df"
   ]
  },
  {
   "cell_type": "code",
   "execution_count": 53,
   "metadata": {},
   "outputs": [
    {
     "data": {
      "text/plain": [
       "0.78125"
      ]
     },
     "execution_count": 53,
     "metadata": {},
     "output_type": "execute_result"
    }
   ],
   "source": [
    "\n",
    "\n",
    "accuracy_score(result_df['Actual'], result_df['LR_predictions'])\n",
    "f1_score(result_df['Actual'], result_df['LR_predictions'], average='binary')\n",
    "precision_score(result_df['Actual'], result_df['LR_predictions'], average='binary')\n",
    "recall_score(result_df['Actual'], result_df['LR_predictions'], average='binary')"
   ]
  },
  {
   "cell_type": "code",
   "execution_count": 64,
   "metadata": {},
   "outputs": [
    {
     "name": "stdout",
     "output_type": "stream",
     "text": [
      "LR_predictions\n",
      "Accuray for LR_predictions  0.9\n",
      "F1 Score for LR_predictions  0.8333333333333334\n",
      "Precision for LR_predictions  0.8928571428571429\n",
      "Recall for LR_predictions  0.78125\n",
      "****************************************************************************************************\n",
      "KNN_preditions\n",
      "Accuray for KNN_preditions  0.93\n",
      "F1 Score for KNN_preditions  0.8923076923076922\n",
      "Precision for KNN_preditions  0.8787878787878788\n",
      "Recall for KNN_preditions  0.90625\n",
      "****************************************************************************************************\n",
      "SVM_predictions\n",
      "Accuray for SVM_predictions  0.93\n",
      "F1 Score for SVM_predictions  0.8923076923076922\n",
      "Precision for SVM_predictions  0.8787878787878788\n",
      "Recall for SVM_predictions  0.90625\n",
      "****************************************************************************************************\n",
      "DT_predictions\n",
      "Accuray for DT_predictions  0.92\n",
      "F1 Score for DT_predictions  0.8787878787878787\n",
      "Precision for DT_predictions  0.8529411764705882\n",
      "Recall for DT_predictions  0.90625\n",
      "****************************************************************************************************\n",
      "RF_predictions\n",
      "Accuray for RF_predictions  0.92\n",
      "F1 Score for RF_predictions  0.875\n",
      "Precision for RF_predictions  0.875\n",
      "Recall for RF_predictions  0.875\n",
      "****************************************************************************************************\n"
     ]
    }
   ],
   "source": [
    "for each in result_df.columns:\n",
    "    if each != 'Actual':\n",
    "        print(each)\n",
    "        print(\"Accuray for \"+ each + \" \",accuracy_score(result_df['Actual'], result_df[each]))\n",
    "        print(\"F1 Score for \"+ each + \" \",f1_score(result_df['Actual'], result_df[each], average='binary'))\n",
    "        print(\"Precision for \"+ each + \" \",precision_score(result_df['Actual'], result_df[each], average='binary'))\n",
    "        print(\"Recall for \"+ each + \" \",recall_score(result_df['Actual'], result_df[each], average='binary'))\n",
    "        print('*'*100)"
   ]
  },
  {
   "cell_type": "raw",
   "metadata": {},
   "source": [
    "# THe confusion matrix is not enough, let try some more evaluation techniques\n",
    "True Positive Rate = True Positives / (True Positives + False Negatives\n",
    "Sensitivity = True Positives / (True Positives + False Negatives)\n",
    "\n",
    "\n",
    "\n",
    "False Positive Rate = False Positives / (False Positives + True Negatives)\n",
    "Specificity = True Negatives / (True Negatives + False Positives)\n",
    "\n",
    "\n",
    "False Positive Rate = 1 - Specificity\n",
    "\n",
    "Positive Predictive Power = True Positives / (True Positives + False Positives)\n",
    "Precision = True Positives / (True Positives + False Positives)\n",
    "\t\n",
    "Recall = True Positives / (True Positives + False Negatives)\n",
    "\n",
    "Recall == Sensitivity"
   ]
  },
  {
   "cell_type": "markdown",
   "metadata": {},
   "source": [
    "https://towardsdatascience.com/roc-curve-explained-using-a-covid-19-hypothetical-example-binary-multi-class-classification-bab188ea869c\n",
    "\n",
    "https://machinelearningmastery.com/roc-curves-and-precision-recall-curves-for-classification-in-python/"
   ]
  }
 ],
 "metadata": {
  "kernelspec": {
   "display_name": "Python 3",
   "language": "python",
   "name": "python3"
  },
  "language_info": {
   "codemirror_mode": {
    "name": "ipython",
    "version": 3
   },
   "file_extension": ".py",
   "mimetype": "text/x-python",
   "name": "python",
   "nbconvert_exporter": "python",
   "pygments_lexer": "ipython3",
   "version": "3.7.3"
  }
 },
 "nbformat": 4,
 "nbformat_minor": 4
}
